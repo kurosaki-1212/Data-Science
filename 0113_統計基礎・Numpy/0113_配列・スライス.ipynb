{
  "cells": [
    {
      "cell_type": "markdown",
      "metadata": {
        "id": "a11CQomVwkxt"
      },
      "source": [
        "### Numpy"
      ]
    },
    {
      "cell_type": "markdown",
      "metadata": {
        "id": "z4MSANCia_bI"
      },
      "source": [
        "# Numpyの一次元配列\n",
        "\n",
        "公式：https://numpy.org/doc/stable/reference/\n",
        "\n",
        "**ポイント：**\n",
        "\n",
        "・Pythonで数値計算を効率的に行うためのライブラリである。\n",
        "\n",
        "・ベクトル（１次元配列）や行列（２次元配列）などの多次元配列を効率よく扱うことができる。"
      ]
    },
    {
      "cell_type": "markdown",
      "metadata": {
        "id": "X-ETgra-aQ0Q"
      },
      "source": [
        "①Numpyをインポートし、npという名前で呼び出せるように別名を付ける\n"
      ]
    },
    {
      "cell_type": "code",
      "execution_count": null,
      "metadata": {
        "id": "yXKiV96PZ-f7"
      },
      "outputs": [],
      "source": [
        "import numpy as np"
      ]
    },
    {
      "cell_type": "markdown",
      "metadata": {
        "id": "ZxuKj09NadIZ"
      },
      "source": [
        "②Numpy の 一次元配列を作成し、aという変数に代入する。\n",
        "内容は 1,2,3とする\n",
        "\n",
        "\n",
        "![4-1-1.png](data:image/png;base64,iVBORw0KGgoAAAANSUhEUgAAARUAAABFCAIAAADrdeX2AAAAAXNSR0IArs4c6QAAAARnQU1BAACxjwv8YQUAAAAJcEhZcwAAFiUAABYlAUlSJPAAAAOOSURBVHhe7d2xeqJAFIZh3GuRLfbxCqBJC2lS2dpBqU26lOnSYKmdrdU2C2XS6BX4WATuxZ3RiYmSzW4OY2Tc720CJMVM4Iczw8R0NpuNB0Dkm/kK4PPIDyBHfgA58gPIkR9AjvwAcuQHkCM/gBz5AeTIDyBHfgA58gPIkR9AjvwAcpfw9wtPT09mC5C6uroyW59xIfmRdb4lXG+/8t+eAuo3QI78AHLkB5AjP4Ac+QHkyA8gR34AOfIDyJEfQI78nF5VjNOw0wnHlTngkqpIQ9X4nTAdF8514rAHYWq1B+TnlHanzr9fm33XFGnHj1e9fl5qedZbjWI/Lcx3XXDYgzLve9PYt3kn27jv8fHRbLVMngVBkpd6K/G8INNb72hr+99rtD7mJbnZ22tpF8osqPVAH6sdFLef588JRcPFYhJ1zZ5rip8rL+hfHzY/ulEBWj07UsR1h4vNYnjYg+51P/CW69LsNmQhPwf1pS6RXSzzURNN6hcfjjTNTzUOdX159/I4LO+8kdX6Eq1SPa88r/fd4VRVv+ZLL7mJzG5DDfOjG5Pkb4qUbnSbBcvRg0tjTPyrajwYLYPs1tLF9+WqYhwO5r2snNjqQcP86ALzqC3b+vLDClk9s0yx9wGeYW2j6nR/pO+WztV0+wvOv1/3Z4uJxQ6cY/5Ah+6vqLxbRYcnngYW79xfqDuc7aev574aott7BWQjP+qpOE7TUNuGfLQ038Bl2A5yp0leOntT6+5Ew8lik/em8cBWddM0P0Uadvx4vv5xczdT9JNjO8GOi2HKNlWnX0ZFYHWE3iw/RRpPvazcqJIyinTAzfGPMf5xhzpX+slzPMiF0Sg/ejKz9obt7xj/uELPt6n7o6vh2b6ZPO192Pr8wXaK02zDabv0zNy9kamGL+uVWvGgLlBbL4Aa5UdPVS9Hg/2aXJ13f95LGP+8qIzdXvl2p/X0dZb0r/d9eMP8ROtFkzwJprEaDBS7huuV8GrIkeTWHqmmXBIrs9e4BEmmV0vqNYb1JYan09r1o3+YSTn+3bSz/R9MA9VXwrb2FCilytDrJWoW9B4Rt5/PHz0/Pn/07Pj8UeAMyA8gR34AOfIDyJEfQI78AHLkB5AjP4Ac+QHk+P/BgCZbf3AJ+QHOhfoNkCM/gBz5AeTIDyBHfgA58gPIkR9AjvwAcuQHkCM/gBz5AeTIDyBHfgA58gPIkR9AyvN+AyEvpc/90NiwAAAAAElFTkSuQmCC)"
      ]
    },
    {
      "cell_type": "code",
      "execution_count": null,
      "metadata": {
        "id": "JySimgxMacto"
      },
      "outputs": [],
      "source": [
        "# 一次元配列の作り方\n",
        "a = np.array([1, 2, 3])"
      ]
    },
    {
      "cell_type": "markdown",
      "metadata": {
        "id": "qEp8jbEOasy4"
      },
      "source": [
        "③変数 a の内容を表示する。ただし、printを使わず出力すること"
      ]
    },
    {
      "cell_type": "code",
      "execution_count": null,
      "metadata": {
        "id": "DOuduEGlary3",
        "colab": {
          "base_uri": "https://localhost:8080/"
        },
        "outputId": "3101525e-4626-497e-8359-beca711486b0"
      },
      "outputs": [
        {
          "output_type": "execute_result",
          "data": {
            "text/plain": [
              "array([1, 2, 3])"
            ]
          },
          "metadata": {},
          "execution_count": 44
        }
      ],
      "source": [
        "a"
      ]
    },
    {
      "cell_type": "markdown",
      "metadata": {
        "id": "mcUZLpSKbQZC"
      },
      "source": [
        "④変数 a の内容をprintを使って表示する。"
      ]
    },
    {
      "cell_type": "code",
      "execution_count": null,
      "metadata": {
        "id": "H77sreG7bPrC",
        "colab": {
          "base_uri": "https://localhost:8080/"
        },
        "outputId": "2ffb43b7-835a-4c19-f856-019fc99d4ef2"
      },
      "outputs": [
        {
          "output_type": "stream",
          "name": "stdout",
          "text": [
            "{1, 2, 3}\n"
          ]
        }
      ],
      "source": [
        "print(a)"
      ]
    },
    {
      "cell_type": "markdown",
      "metadata": {
        "id": "ZvfIYCVDbYor"
      },
      "source": [
        "⑤変数 a のオブジェクト型を type関数を使って確認する。"
      ]
    },
    {
      "cell_type": "code",
      "execution_count": null,
      "metadata": {
        "id": "YnQd4h5Qbhft",
        "colab": {
          "base_uri": "https://localhost:8080/"
        },
        "outputId": "6c10d0cd-f82f-4d7b-b792-821b746b7cff"
      },
      "outputs": [
        {
          "output_type": "execute_result",
          "data": {
            "text/plain": [
              "numpy.ndarray"
            ]
          },
          "metadata": {},
          "execution_count": 5
        }
      ],
      "source": [
        "type(a)"
      ]
    },
    {
      "cell_type": "markdown",
      "metadata": {
        "id": "DYkQ4gGzbmC_"
      },
      "source": [
        "⑥ 変数 a の要素数を shape を使って確認する。"
      ]
    },
    {
      "cell_type": "code",
      "execution_count": null,
      "metadata": {
        "id": "zuxRC2MZb8UO",
        "colab": {
          "base_uri": "https://localhost:8080/"
        },
        "outputId": "f6ea1c44-79c2-4ffa-c475-0aefd9b13475"
      },
      "outputs": [
        {
          "output_type": "execute_result",
          "data": {
            "text/plain": [
              "(3,)"
            ]
          },
          "metadata": {},
          "execution_count": 45
        }
      ],
      "source": [
        "# 要素数の求め方\n",
        "a.shape"
      ]
    },
    {
      "cell_type": "markdown",
      "metadata": {
        "id": "wzso7j9eddFu"
      },
      "source": [
        "# 二次元配列"
      ]
    },
    {
      "cell_type": "markdown",
      "metadata": {
        "id": "eSxjlDPedi2B"
      },
      "source": [
        "①変数 b に以下のような二次元配列を作成して代入する。\n",
        "変数は array 関数を使用すること。\n",
        "\n",
        "![4-1-2.png](data:image/png;base64,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)"
      ]
    },
    {
      "cell_type": "code",
      "execution_count": null,
      "metadata": {
        "id": "apM29nSCeYYQ"
      },
      "outputs": [],
      "source": [
        "# 二次元配列の作り方\n",
        "b = np.array([[1, 2, 3, 4], [5, 6, 7, 8]])"
      ]
    },
    {
      "cell_type": "markdown",
      "metadata": {
        "id": "GKDzgIo-eV6b"
      },
      "source": [
        "② ①で作成した二次元配列の要素数を shape を使って確認"
      ]
    },
    {
      "cell_type": "code",
      "execution_count": null,
      "metadata": {
        "id": "GWxefYjleXuX",
        "colab": {
          "base_uri": "https://localhost:8080/"
        },
        "outputId": "dded5984-8be5-497f-8253-a77c8ee85947"
      },
      "outputs": [
        {
          "output_type": "execute_result",
          "data": {
            "text/plain": [
              "(2, 4)"
            ]
          },
          "metadata": {},
          "execution_count": 6
        }
      ],
      "source": [
        "# 二次元配列の要素数\n",
        "b.shape"
      ]
    },
    {
      "cell_type": "markdown",
      "metadata": {
        "id": "v05sqciDemud"
      },
      "source": [
        "③ c1 という一次元配列を作成する。内容は以下のとおりとする。 \n",
        "\n",
        "![4-1-3.png](data:image/png;base64,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)"
      ]
    },
    {
      "cell_type": "code",
      "execution_count": null,
      "metadata": {
        "id": "3O8RAyCmf12Y"
      },
      "outputs": [],
      "source": [
        "c1 = np.array([1, 2, 3, 4, 5, 6, 7, 8])"
      ]
    },
    {
      "cell_type": "markdown",
      "metadata": {
        "id": "MzSZkLNtgg3z"
      },
      "source": [
        "④ reshap を使って③のデータを2行の配列に変換し、c2という変数に代入する。"
      ]
    },
    {
      "cell_type": "code",
      "execution_count": null,
      "metadata": {
        "id": "DdMJUmccgxy9",
        "colab": {
          "base_uri": "https://localhost:8080/"
        },
        "outputId": "ea242ff5-fd64-4767-e8ee-0e3d24d2d147"
      },
      "outputs": [
        {
          "output_type": "execute_result",
          "data": {
            "text/plain": [
              "array([[1, 2, 3, 4],\n",
              "       [5, 6, 7, 8]])"
            ]
          },
          "metadata": {},
          "execution_count": 24
        }
      ],
      "source": [
        "# reshapeで一次元配列を二次元配列にできる\n",
        "c2 = c1.reshape((2, 4))\n",
        "c2"
      ]
    },
    {
      "cell_type": "markdown",
      "metadata": {
        "id": "R5MDPb5BgzzZ"
      },
      "source": [
        "⑤ reshapeを使って③のデータを4行2列（4×2）行列に変換し c3 という変数に代入する。"
      ]
    },
    {
      "cell_type": "code",
      "execution_count": null,
      "metadata": {
        "id": "4vzeHZ9EhJbl",
        "colab": {
          "base_uri": "https://localhost:8080/"
        },
        "outputId": "b8e936c6-7261-4d75-e3e5-3865528a374f"
      },
      "outputs": [
        {
          "output_type": "execute_result",
          "data": {
            "text/plain": [
              "array([[1, 2],\n",
              "       [3, 4],\n",
              "       [5, 6],\n",
              "       [7, 8]])"
            ]
          },
          "metadata": {},
          "execution_count": 25
        }
      ],
      "source": [
        "c3 = c1.reshape((4, 2))\n",
        "c3"
      ]
    },
    {
      "cell_type": "markdown",
      "metadata": {
        "id": "d2UWo7YQhOxI"
      },
      "source": [
        "⑥ ⑤で作成した c3 を一次元配列に変換する。\n",
        "新しい変数 c4 にはravelで変換した結果を、c5にはflatten を用いて変換した結果を代入する。"
      ]
    },
    {
      "cell_type": "code",
      "execution_count": null,
      "metadata": {
        "id": "cCzWf2kahOLX",
        "colab": {
          "base_uri": "https://localhost:8080/"
        },
        "outputId": "795ea830-9e15-4435-f994-1deb37eabde5"
      },
      "outputs": [
        {
          "output_type": "stream",
          "name": "stdout",
          "text": [
            "c4: [1 2 3 4 5 6 7 8]\n",
            "c5: [1 2 3 4 5 6 7 8]\n"
          ]
        }
      ],
      "source": [
        "c4 = c3.ravel()\n",
        "print(\"c4:\", c4)\n",
        "\n",
        "c5 = c3.flatten()\n",
        "print(\"c5:\", c5)"
      ]
    },
    {
      "cell_type": "markdown",
      "metadata": {
        "id": "YZ_-EWogrGDp"
      },
      "source": [
        "# データ型"
      ]
    },
    {
      "cell_type": "markdown",
      "metadata": {
        "id": "mIELlGNHre11"
      },
      "source": [
        "①これまでに作成した変数 a,b,c1,c2,c3の型dtypeqを使って確認する。出力は printを使用し画面表示すること。"
      ]
    },
    {
      "cell_type": "code",
      "execution_count": null,
      "metadata": {
        "id": "V_eKpAborVpB",
        "colab": {
          "base_uri": "https://localhost:8080/"
        },
        "outputId": "88478f35-c046-473b-db76-8cb6cc7c3f35"
      },
      "outputs": [
        {
          "output_type": "stream",
          "name": "stdout",
          "text": [
            "a: int64\n",
            "b: int64\n",
            "c1: int64\n",
            "c2: int64\n",
            "c3: int64\n"
          ]
        }
      ],
      "source": [
        "# dtype関数を使い、型を抽出する\n",
        "print(\"a:\",a.dtype)\n",
        "print(\"b:\",b.dtype)\n",
        "print(\"c1:\",c1.dtype)\n",
        "print(\"c2:\",c2.dtype)\n",
        "print(\"c3:\",c3.dtype)"
      ]
    },
    {
      "cell_type": "markdown",
      "metadata": {
        "id": "t1WrFmv4r25d"
      },
      "source": [
        "② int16 を指定して変数 d に 一次元配列 [0,5] を代入する。\n",
        "dtypeを使って、変数の型を確認すること。"
      ]
    },
    {
      "cell_type": "code",
      "execution_count": null,
      "metadata": {
        "id": "F8mizvSVu2N4",
        "colab": {
          "base_uri": "https://localhost:8080/"
        },
        "outputId": "481c0518-c9e5-4713-dc4e-1b2f25ceb300"
      },
      "outputs": [
        {
          "output_type": "execute_result",
          "data": {
            "text/plain": [
              "array([1, 2], dtype=int16)"
            ]
          },
          "metadata": {},
          "execution_count": 59
        }
      ],
      "source": [
        "# int16 → 16ビットの符号付き整数\n",
        "d = np.array([1,2], dtype = np.int16)\n",
        "d"
      ]
    },
    {
      "cell_type": "markdown",
      "metadata": {
        "id": "wWEIBFwpu1KO"
      },
      "source": [
        "③ 変数 d の値を float16に変換する。\n",
        "dtypeを使って、変数の型を確認すること"
      ]
    },
    {
      "cell_type": "code",
      "execution_count": null,
      "metadata": {
        "id": "-PWuh8Kqu1w_",
        "colab": {
          "base_uri": "https://localhost:8080/"
        },
        "outputId": "a470692c-cfdf-4bd2-9a71-d4c135dc7c67"
      },
      "outputs": [
        {
          "output_type": "execute_result",
          "data": {
            "text/plain": [
              "array([1., 2.], dtype=float16)"
            ]
          },
          "metadata": {},
          "execution_count": 60
        }
      ],
      "source": [
        "d.astype(np.float16)"
      ]
    },
    {
      "cell_type": "markdown",
      "metadata": {
        "id": "OWAK60ilvq69"
      },
      "source": [
        "● int32, int64 など変数の型の違いについて調べてみよう\n",
        "\n",
        "参考：https://python.atelierkobato.com/dtype/\n",
        "\n",
        "\n",
        "※ int32 が -2147483648 ～ 2147483647 の理由 ： 2 ** 32 が表現できる範囲のため"
      ]
    },
    {
      "cell_type": "markdown",
      "metadata": {
        "id": "pnZkpNsXvHCb"
      },
      "source": [
        "# インデックスとスライス\n",
        "\n",
        "**※超重要！！！**"
      ]
    },
    {
      "cell_type": "markdown",
      "metadata": {
        "id": "RscOsyHyy2wi"
      },
      "source": [
        "インデックスはこれまで学習したpythonのインデックスとほぼ同じ"
      ]
    },
    {
      "cell_type": "code",
      "execution_count": null,
      "metadata": {
        "colab": {
          "base_uri": "https://localhost:8080/"
        },
        "id": "4IbnofgzydC9",
        "outputId": "853045f0-85c5-4b26-a349-19dc1972b5f8"
      },
      "outputs": [
        {
          "output_type": "stream",
          "name": "stdout",
          "text": [
            "1\n",
            "4\n",
            "21\n"
          ]
        }
      ],
      "source": [
        "import numpy as np\n",
        "test1 = np.array([1, 10, 4, 1, 15, 10, 21])\n",
        "\n",
        "# test1の中の インデックス 0番目のデータのみ print で表示する\n",
        "print(test1[0])\n",
        "\n",
        "# ① test1の中の 2番目のデータのみ print で表示する\n",
        "print(test1[2])\n",
        "\n",
        "# ② test1の中の 最後のインデックスのデータのみprintで表示する\n",
        "print(test1[-1])"
      ]
    },
    {
      "cell_type": "markdown",
      "metadata": {
        "id": "y2kAfGcjz7xh"
      },
      "source": [
        "**一次元配列のスライス**\n",
        "\n",
        "連続しているデータの範囲を指定して取り出す方法\n",
        "\n",
        "[start : stop : step ]  形式で任意の位置から取り出しが可能\n",
        "\n",
        "最後のstepは記載がなければ1つずつとなる。"
      ]
    },
    {
      "cell_type": "code",
      "execution_count": null,
      "metadata": {
        "colab": {
          "base_uri": "https://localhost:8080/"
        },
        "id": "a8yNRKpt2J-P",
        "outputId": "1a85d669-8258-45a3-ce5b-1609de8cc9da"
      },
      "outputs": [
        {
          "output_type": "stream",
          "name": "stdout",
          "text": [
            "s1 =  [0 1]\n",
            "s2 =  [2 3 4 5]\n",
            "s3 =  [0 1 2 3 4 5 6 7 8]\n",
            "s4 =  [3 4 5 6 7 8]\n",
            "s5 =  [0 1 2]\n",
            "s6 =  [8 7 6 5 4 3 2 1 0]\n"
          ]
        }
      ],
      "source": [
        "# 例　まずは動きを確認 ちょっと想像と違うかもしれない。特にstopに注意\n",
        "\n",
        "import numpy as np\n",
        "test2 = np.array([0, 1, 2, 3, 4, 5, 6, 7, 8])\n",
        "\n",
        "# 0から2を指定した場合\n",
        "s1 = test2[0:2]\n",
        "print('s1 = ', s1)\n",
        "\n",
        "# 2から6を指定した場合\n",
        "s2 = test2[2:6]\n",
        "print('s2 = ', s2)\n",
        "\n",
        "# 全範囲を指定する場合\n",
        "s3 = test2[:]\n",
        "print('s3 = ', s3)\n",
        "\n",
        "# stopを省略すると、最後まで取得できる\n",
        "s4 = test2[3:]\n",
        "print('s4 = ', s4)\n",
        "\n",
        "# startを省略すると、先頭からstop-1番目までがスライスされる\n",
        "s5 = test2[:3]\n",
        "print('s5 = ', s5)\n",
        "\n",
        "# 逆順に全部\n",
        "s6 = test2[::-1]\n",
        "print('s6 = ', s6)"
      ]
    },
    {
      "cell_type": "markdown",
      "metadata": {
        "id": "RPAp4o9U9Tge"
      },
      "source": [
        "**●s1の結果からわかることを以下のように文章でまとめた。文中に当てはまる文言を考えよう。**\n",
        "\n",
        "stopに指定されたインデックスはスライスする際に[範囲外]になる。\n",
        "\n",
        "インデックス0番目から3番目までのデータを取得したい場合は、stopに[３＋１] の値を指定しなければならない。\n",
        "\n",
        "\n",
        "\n",
        "\n"
      ]
    },
    {
      "cell_type": "markdown",
      "metadata": {
        "id": "GV1jlxLp8aba"
      },
      "source": [
        "【演習】\n",
        "以下のコメント通りの出力結果になるようにソースコードを追記してください。\n"
      ]
    },
    {
      "cell_type": "code",
      "execution_count": null,
      "metadata": {
        "id": "hldXTaBg8k-_",
        "colab": {
          "base_uri": "https://localhost:8080/"
        },
        "outputId": "c0adc97e-3734-44a9-eebd-66c6bf015908"
      },
      "outputs": [
        {
          "output_type": "stream",
          "name": "stdout",
          "text": [
            "[0 1 2 3 4 5 6 7 8 9]\n",
            "[0 1 2]\n",
            "[2 3 4 5 6 7 8 9]\n"
          ]
        }
      ],
      "source": [
        "import numpy as np\n",
        "test3 = np.array(range(10))\n",
        "\n",
        "# test3の全範囲を取得し、表示\n",
        "print(test3)\n",
        "\n",
        "# test3のインデックス 0番目から2番目までの3つのデータを取得\n",
        "print(test3[0:3])\n",
        "\n",
        "# test3のインデックス2番目から最後までのデータを取得\n",
        "print(test3[2:])\n"
      ]
    },
    {
      "cell_type": "markdown",
      "metadata": {
        "id": "5bpWFUhn__Yr"
      },
      "source": [
        "**二次元配列のスライス**\n",
        "\n",
        "基本的には一次元とほぼ同じ。\n",
        "次元ごとに[:,:,:]のようにカンマ「,」で区切り表現する"
      ]
    },
    {
      "cell_type": "code",
      "execution_count": null,
      "metadata": {
        "colab": {
          "base_uri": "https://localhost:8080/"
        },
        "id": "LtJlosEwA1O_",
        "outputId": "dc436ea0-efb5-4668-e6be-d551ddf3dcea"
      },
      "outputs": [
        {
          "output_type": "stream",
          "name": "stdout",
          "text": [
            "[[0 1 2 3 4]\n",
            " [5 6 7 8 9]]\n"
          ]
        }
      ],
      "source": [
        "# 例\n",
        "\n",
        "# 二次元配列を作成\n",
        "t = np.array(range(10))\n",
        "test4 = t.reshape((2,5))\n",
        "\n",
        "# 表示\n",
        "print(test4)"
      ]
    },
    {
      "cell_type": "code",
      "execution_count": null,
      "metadata": {
        "colab": {
          "base_uri": "https://localhost:8080/"
        },
        "id": "ywCBZ5LuBQxj",
        "outputId": "0d000f50-cf4b-41da-e109-edb772bacf2f"
      },
      "outputs": [
        {
          "output_type": "stream",
          "name": "stdout",
          "text": [
            "[0 1 2 3 4]\n"
          ]
        }
      ],
      "source": [
        "# 値一つだけを指定すると、行方向の配列が取得可能\n",
        "m1 = test4[0]\n",
        "print(m1)\n"
      ]
    },
    {
      "cell_type": "markdown",
      "metadata": {
        "id": "YJuS4WPhDA5a"
      },
      "source": [
        "イメージで覚える\n",
        "\n",
        "![4_1_25.PNG](data:image/png;base64,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)\n",
        "\n",
        "真ん中の,(カンマ)の左側は行、右側は列のスライスを指定する\n",
        "\n"
      ]
    },
    {
      "cell_type": "code",
      "execution_count": null,
      "metadata": {
        "colab": {
          "base_uri": "https://localhost:8080/"
        },
        "id": "_3S-JRqvEEds",
        "outputId": "0b0c989a-7b5e-4e75-9a1d-505897f365e1"
      },
      "outputs": [
        {
          "output_type": "stream",
          "name": "stdout",
          "text": [
            "[[0 1 2 3 4]\n",
            " [5 6 7 8 9]]\n",
            "[[3 4]\n",
            " [8 9]]\n",
            "[2 3]\n"
          ]
        }
      ],
      "source": [
        "# すべてのデータをスライスで指定する\n",
        "m2 = test4[:,:]\n",
        "print(m2)\n",
        "\n",
        "# 3列目から最後の列までを指定する\n",
        "m3 = test4[:,3:]\n",
        "print(m3)\n",
        "\n",
        "# 0行目の2列目と3列目だけを指定する\n",
        "m4 = test4[0, 2:4]\n",
        "print(m4)"
      ]
    },
    {
      "cell_type": "markdown",
      "metadata": {
        "id": "b33-5pDFF6uy"
      },
      "source": [
        "【演習】以下のようなNumPyの二次元配列 test5 を定義し、コメントに従って適切なデータを取得しましょう。\n",
        "データの取得にはスライスを使用すること。\n",
        "\n",
        "![4_1_26.PNG](data:image/png;base64,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)"
      ]
    },
    {
      "cell_type": "code",
      "execution_count": null,
      "metadata": {
        "id": "RxsWCMcSFQQc",
        "colab": {
          "base_uri": "https://localhost:8080/"
        },
        "outputId": "52b940f2-7568-4810-9961-928a6757bc1f"
      },
      "outputs": [
        {
          "output_type": "stream",
          "name": "stdout",
          "text": [
            "[ 6  7  8  9 10]\n",
            "[[ 3  4  5]\n",
            " [ 8  9 10]]\n",
            "[[8 9]]\n",
            "[[1]\n",
            " [6]]\n"
          ]
        }
      ],
      "source": [
        "# test5を定義\n",
        "test5 = np.array(range(1, 10+1))\n",
        "test5= test5.reshape(2, 5)\n",
        "\n",
        "# test5の1行目（6,7,8,9,10）を取得し、printで表示\n",
        "print(test5[1])\n",
        "\n",
        "# test5の2列目から最後の列まで取得、printで表示\n",
        "print(test5[:,2:])\n",
        "\n",
        "# test5の1行目、2列目から3列目まで（8,9）を取得し、printで表示\n",
        "print(test5[1:, 2:4])\n",
        "\n",
        "# test5の0列目だけを取得し、printで表示\n",
        "print(test5[:,0:1])\n"
      ]
    },
    {
      "cell_type": "markdown",
      "metadata": {
        "id": "byJ6HL1NLXQD"
      },
      "source": [
        "※文章の穴埋めの解答例。\n",
        "\n",
        "**●s1の結果からわかることを以下のように文章でまとめた。文中に当てはまる文言を考えよう。**\n",
        "\n",
        "stopに指定されたインデックスはスライスする際に[範囲外]になる。\n",
        "\n",
        "インデックス0番目から3番目までのデータを取得したい場合は、stopに[3+1] の値を指定しなければならない。"
      ]
    }
  ],
  "metadata": {
    "colab": {
      "collapsed_sections": [],
      "name": "0113_配列・スライス.ipynb",
      "provenance": []
    },
    "kernelspec": {
      "display_name": "Python 3",
      "name": "python3"
    },
    "language_info": {
      "name": "python"
    }
  },
  "nbformat": 4,
  "nbformat_minor": 0
}