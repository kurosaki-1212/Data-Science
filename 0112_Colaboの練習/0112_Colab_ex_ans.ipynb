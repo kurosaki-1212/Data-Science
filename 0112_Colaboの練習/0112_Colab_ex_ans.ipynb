{
  "cells": [
    {
      "cell_type": "markdown",
      "metadata": {
        "id": "ul1ViSspmB9l"
      },
      "source": [
        "**初めてのColab**\n",
        "\n",
        "Pythonを復習しつつ、便利機能を覚えまし\n",
        "ょう"
      ]
    },
    {
      "cell_type": "code",
      "execution_count": null,
      "metadata": {
        "id": "_DtjU2Uvpm10"
      },
      "outputs": [],
      "source": [
        "# ここにコーディングができる。\n",
        "# コーディングのエリアは左上の「＋コード」テキストエリアは「＋テキスト」で追加可能\n",
        "# 実行はセルの左の三角ボタン"
      ]
    },
    {
      "cell_type": "markdown",
      "metadata": {
        "id": "bx88mv21mTLI"
      },
      "source": [
        "1 + 10の結果を表示"
      ]
    },
    {
      "cell_type": "code",
      "execution_count": null,
      "metadata": {
        "colab": {
          "base_uri": "https://localhost:8080/"
        },
        "id": "EtupVEYPmSEO",
        "outputId": "622b29bd-9cdf-4d9e-ac0c-8cb531110d9b"
      },
      "outputs": [
        {
          "data": {
            "text/plain": [
              "11"
            ]
          },
          "execution_count": 1,
          "metadata": {},
          "output_type": "execute_result"
        }
      ],
      "source": [
        "1+10"
      ]
    },
    {
      "cell_type": "markdown",
      "metadata": {
        "id": "vqFf6dGFmebv"
      },
      "source": [
        "❓\n",
        "10, 30, 12 の平均を求める\n",
        "\n",
        "ヒント：平均の求め方は、すべての数の合計 ÷ 数の個数　"
      ]
    },
    {
      "cell_type": "code",
      "execution_count": 1,
      "metadata": {
        "id": "b1DMBSVimbXp",
        "colab": {
          "base_uri": "https://localhost:8080/"
        },
        "outputId": "09024090-98ad-4691-ee33-68fcf8f7dac8"
      },
      "outputs": [
        {
          "output_type": "execute_result",
          "data": {
            "text/plain": [
              "17.333333333333332"
            ]
          },
          "metadata": {},
          "execution_count": 1
        }
      ],
      "source": [
        "# ここに平均を求める式を書く\n",
        "(10 + 30 + 12) /3"
      ]
    },
    {
      "cell_type": "markdown",
      "metadata": {
        "id": "e7YqPb1Om3WK"
      },
      "source": [
        "なんとColab上では変数も使用できます。\n",
        "\n",
        "a という変数に \"hello world\"という文字を代入し、printで表示する"
      ]
    },
    {
      "cell_type": "code",
      "execution_count": null,
      "metadata": {
        "colab": {
          "base_uri": "https://localhost:8080/"
        },
        "id": "p14v7QGFmBaJ",
        "outputId": "cdcd2a5f-1e97-4e02-e217-90ed123b3a89"
      },
      "outputs": [
        {
          "name": "stdout",
          "output_type": "stream",
          "text": [
            "hello world\n"
          ]
        }
      ],
      "source": [
        "a = \"hello world\"\n",
        "print(a)"
      ]
    },
    {
      "cell_type": "markdown",
      "metadata": {
        "id": "dy4Q8fZHnSqC"
      },
      "source": [
        "前のセルで定義済みの変数は次のセルでも使用可能"
      ]
    },
    {
      "cell_type": "code",
      "execution_count": null,
      "metadata": {
        "colab": {
          "base_uri": "https://localhost:8080/"
        },
        "id": "NjH8gwG5nNOf",
        "outputId": "2f7e3129-b0e9-4b2a-872e-a47fdc0c727b"
      },
      "outputs": [
        {
          "name": "stdout",
          "output_type": "stream",
          "text": [
            "hello worldこんにちは！\n"
          ]
        }
      ],
      "source": [
        "b = a + 'こんにちは！'\n",
        "print(b)"
      ]
    },
    {
      "cell_type": "markdown",
      "metadata": {
        "id": "84QyBZBZnziv"
      },
      "source": [
        "❓\n",
        "0～10までの数値のリストを作成し、printで表示してください。\n",
        "**ただし、リストの値を作成する際は for を使わず、rangeを使用すること。**\n",
        "\n",
        "どうしてもわからない人はこちらのヒントを確認し自力でやろう：\n",
        "\n",
        "https://www.delftstack.com/ja/howto/python/python-list-from-1-to-n/\n",
        "\n",
        "▼ range のエラーが出る人は…\n",
        "正しく入力しても、「TypeError: 'list' object is not callable in python」と表示されてしまう場合は以下の記事を確認してみましょう。\n",
        "\n",
        "https://qiita.com/akkkkiii1/items/bfbcaafbf6fead7b6f41"
      ]
    },
    {
      "cell_type": "code",
      "execution_count": null,
      "metadata": {
        "id": "e0epTaqqnSE5",
        "colab": {
          "base_uri": "https://localhost:8080/"
        },
        "outputId": "84f6a366-027c-48a9-e335-8638ef39f687"
      },
      "outputs": [
        {
          "output_type": "stream",
          "name": "stdout",
          "text": [
            "[1, 2, 3, 4, 5, 6, 7, 8, 9, 10]\n"
          ]
        }
      ],
      "source": [
        "# ここにソースコードを記載する\n",
        "lst = list(range(1,10+1))\n",
        "print(lst)"
      ]
    },
    {
      "cell_type": "code",
      "source": [
        "whos"
      ],
      "metadata": {
        "colab": {
          "base_uri": "https://localhost:8080/"
        },
        "id": "YMCzLB2dfY8R",
        "outputId": "fb127435-b71b-47e9-d6c7-9dd18e28bb72"
      },
      "execution_count": null,
      "outputs": [
        {
          "output_type": "stream",
          "name": "stdout",
          "text": [
            "Variable   Type    Data/Info\n",
            "----------------------------\n",
            "lst        list    n=10\n"
          ]
        }
      ]
    },
    {
      "cell_type": "code",
      "source": [
        "# 問題ある場合のみ以下を実行\n",
        "# del list"
      ],
      "metadata": {
        "id": "ke_GoF54fer2"
      },
      "execution_count": null,
      "outputs": []
    },
    {
      "cell_type": "markdown",
      "metadata": {
        "id": "LG7b3W-qoqCP"
      },
      "source": [
        "❓\n",
        "11～21までの数値のリストを作成し、printで表示してください。\n",
        "**ただし、リストの値を作成する際は for を使わず、rangeを使用すること。**"
      ]
    },
    {
      "cell_type": "code",
      "execution_count": null,
      "metadata": {
        "id": "bmgejth1plii",
        "colab": {
          "base_uri": "https://localhost:8080/"
        },
        "outputId": "2662e217-9a79-491a-b819-69c13eac8b51"
      },
      "outputs": [
        {
          "output_type": "stream",
          "name": "stdout",
          "text": [
            "[11, 12, 13, 14, 15, 16, 17, 18, 19, 20, 21]\n"
          ]
        }
      ],
      "source": [
        "lst = list(range(11,21+1))\n",
        "print(lst)"
      ]
    },
    {
      "cell_type": "markdown",
      "metadata": {
        "id": "uw34EwJJpcJ2"
      },
      "source": [
        "関数も作成可能です。\n",
        "以下は二つの数字を受け取って、平均を求める関数です。"
      ]
    },
    {
      "cell_type": "code",
      "execution_count": null,
      "metadata": {
        "colab": {
          "base_uri": "https://localhost:8080/"
        },
        "id": "iHPUhBaQopQu",
        "outputId": "6eb7de37-0b8c-4646-efe5-cdeff8834607"
      },
      "outputs": [
        {
          "name": "stdout",
          "output_type": "stream",
          "text": [
            "最初の値 10\n",
            "二つ目の値 20\n",
            "二つの値の平均値 15.0\n"
          ]
        }
      ],
      "source": [
        "def dispavg(x, y):\n",
        "    print('最初の値', x)\n",
        "    print('二つ目の値', y)\n",
        "    avg = (x + y) / 2\n",
        "    print('二つの値の平均値', avg)\n",
        "\n",
        "a = 10\n",
        "b = 20\n",
        "\n",
        "dispavg(a, b)\n"
      ]
    },
    {
      "cell_type": "markdown",
      "metadata": {
        "id": "8sjWFYS-qFdL"
      },
      "source": [
        "❓\n",
        "三つの数を受け取って、平均を表示する関数を作成してください。\n",
        "関数に渡す引数の値は 10.1, 3.14, 14としてください。 \n"
      ]
    },
    {
      "cell_type": "code",
      "execution_count": null,
      "metadata": {
        "colab": {
          "base_uri": "https://localhost:8080/"
        },
        "id": "T8cRCZdKqfqK",
        "outputId": "5b4f1851-f83d-4348-8493-085ac3c1b12d"
      },
      "outputs": [
        {
          "output_type": "stream",
          "name": "stdout",
          "text": [
            "最初の値 10.1\n",
            "二つ目の値 3.14\n",
            "三つ目の値 14\n",
            "三つの値の平均値 9.08\n"
          ]
        }
      ],
      "source": [
        "def dispavg(x, y, z):\n",
        "    print('最初の値', x)\n",
        "    print('二つ目の値', y)\n",
        "    print('三つ目の値', z)\n",
        "    avg = (x + y + z) / 3\n",
        "    print('三つの値の平均値', avg)\n",
        "\n",
        "a = 10.1\n",
        "b = 3.14\n",
        "c = 14\n",
        "\n",
        "dispavg(a, b, c)"
      ]
    },
    {
      "cell_type": "markdown",
      "metadata": {
        "id": "U2B4qvRJtAjH"
      },
      "source": [
        "❓\n",
        "冬休みの課題の「Kadai3.py」を参考に、\n",
        "三つの数を受け取って、**平均と最大値を戻り値とする関数**を作成してください。\n",
        "関数に渡す引数の値は 10.1, 3.14, 14としてください。 \n",
        "戻り値はreturnを一回だけ使用して返却するように記載すること。"
      ]
    },
    {
      "cell_type": "code",
      "execution_count": null,
      "metadata": {
        "colab": {
          "base_uri": "https://localhost:8080/"
        },
        "id": "Z48MKZSjd50x",
        "outputId": "22eda6f4-be40-4c14-c1c9-6a5f32348b7a"
      },
      "outputs": [
        {
          "output_type": "stream",
          "name": "stdout",
          "text": [
            "最初の値 10.1\n",
            "二つ目の値 3.14\n",
            "三つ目の値 14\n",
            "最大値： 14 平均値： 9.08\n"
          ]
        }
      ],
      "source": [
        "def dispavg(x, y, z):\n",
        "    print('最初の値', x)\n",
        "    print('二つ目の値', y)\n",
        "    print('三つ目の値', z)\n",
        "    avg = (x + y + z) / 3\n",
        "\n",
        "    max = x\n",
        "    if max < y:\n",
        "        max = y\n",
        "    if max < z:\n",
        "        max = z\n",
        "    \n",
        "    return avg,max\n",
        "    \n",
        "\n",
        "a = 10.1\n",
        "b = 3.14\n",
        "c = 14\n",
        "\n",
        "d, e = dispavg(a, b, c)\n",
        "print('最大値：',e,'平均値：',d)"
      ]
    },
    {
      "cell_type": "markdown",
      "metadata": {
        "id": "ky-p1HFMd50y"
      },
      "source": [
        "他にも、様々なことが結構簡単にできます。以下を実行すると…？"
      ]
    },
    {
      "cell_type": "code",
      "execution_count": null,
      "metadata": {
        "id": "CElDPY7Xd50y"
      },
      "outputs": [],
      "source": [
        "import folium\n",
        "\n",
        "map1 = folium.Map(location=[35.697, 139.755], height=400, zoom_start=20)\n",
        "map1"
      ]
    }
  ],
  "metadata": {
    "colab": {
      "collapsed_sections": [],
      "name": "0112_Colab_ex_ans.ipynb",
      "provenance": []
    },
    "kernelspec": {
      "display_name": "Python 3",
      "name": "python3"
    },
    "language_info": {
      "name": "python"
    }
  },
  "nbformat": 4,
  "nbformat_minor": 0
}