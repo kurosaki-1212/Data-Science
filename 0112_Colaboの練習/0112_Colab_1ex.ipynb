{
  "cells": [
    {
      "cell_type": "markdown",
      "metadata": {
        "id": "ul1ViSspmB9l"
      },
      "source": [
        "**初めてのColab**\n",
        "\n",
        "Pythonを復習しつつ、便利機能を覚えまし\n",
        "ょう"
      ]
    },
    {
      "cell_type": "markdown",
      "source": [
        ""
      ],
      "metadata": {
        "id": "suVNgV6fRlUL"
      }
    },
    {
      "cell_type": "code",
      "source": [
        "num = \"deta\"\n",
        "print(num)"
      ],
      "metadata": {
        "colab": {
          "base_uri": "https://localhost:8080/"
        },
        "id": "BQz-4XXJRQMF",
        "outputId": "35db4523-4199-4a01-a545-b14413dd0d89"
      },
      "execution_count": 1,
      "outputs": [
        {
          "output_type": "stream",
          "name": "stdout",
          "text": [
            "deta\n"
          ]
        }
      ]
    },
    {
      "cell_type": "markdown",
      "source": [
        ""
      ],
      "metadata": {
        "id": "aweG7fzFRmtZ"
      }
    },
    {
      "cell_type": "code",
      "execution_count": 2,
      "metadata": {
        "id": "_DtjU2Uvpm10"
      },
      "outputs": [],
      "source": [
        "# ここにコーディングができる。\n",
        "# コーディングのエリアは左上の「＋コード」テキストエリアは「＋テキスト」で追加可能\n",
        "# 実行はセルの左の三角ボタン"
      ]
    },
    {
      "cell_type": "markdown",
      "metadata": {
        "id": "bx88mv21mTLI"
      },
      "source": [
        "1 + 10の結果を表示"
      ]
    },
    {
      "cell_type": "code",
      "execution_count": 3,
      "metadata": {
        "colab": {
          "base_uri": "https://localhost:8080/"
        },
        "id": "EtupVEYPmSEO",
        "outputId": "c4886f99-32d0-4c26-d6a7-a547f2706107"
      },
      "outputs": [
        {
          "output_type": "execute_result",
          "data": {
            "text/plain": [
              "11"
            ]
          },
          "metadata": {},
          "execution_count": 3
        }
      ],
      "source": [
        "1+10"
      ]
    },
    {
      "cell_type": "markdown",
      "metadata": {
        "id": "vqFf6dGFmebv"
      },
      "source": [
        "❓\n",
        "10, 30, 12 の平均を求める\n",
        "\n",
        "ヒント：平均の求め方は、すべての数の合計 ÷ 数の個数　"
      ]
    },
    {
      "cell_type": "code",
      "execution_count": 4,
      "metadata": {
        "id": "b1DMBSVimbXp",
        "colab": {
          "base_uri": "https://localhost:8080/"
        },
        "outputId": "345281ae-b5e4-437e-bd26-289b654ad27e"
      },
      "outputs": [
        {
          "output_type": "stream",
          "name": "stdout",
          "text": [
            "10, 30, 12の平均は17.333333333333332\n"
          ]
        }
      ],
      "source": [
        "# ここに平均を求める式を書く\n",
        "num = (10 + 30 + 12) / 3\n",
        "print(\"10, 30, 12の平均は\" + str(num))"
      ]
    },
    {
      "cell_type": "markdown",
      "metadata": {
        "id": "e7YqPb1Om3WK"
      },
      "source": [
        "なんとColab上では変数も使用できます。\n",
        "\n",
        "a という変数に \"hello world\"という文字を代入し、printで表示する"
      ]
    },
    {
      "cell_type": "code",
      "execution_count": 5,
      "metadata": {
        "colab": {
          "base_uri": "https://localhost:8080/"
        },
        "id": "p14v7QGFmBaJ",
        "outputId": "d9d82109-57b2-46c5-f040-5a6ffda267b1"
      },
      "outputs": [
        {
          "output_type": "stream",
          "name": "stdout",
          "text": [
            "hello world\n"
          ]
        }
      ],
      "source": [
        "a = \"hello world\"\n",
        "print(a)"
      ]
    },
    {
      "cell_type": "markdown",
      "metadata": {
        "id": "dy4Q8fZHnSqC"
      },
      "source": [
        "前のセルで定義済みの変数は次のセルでも使用可能"
      ]
    },
    {
      "cell_type": "code",
      "execution_count": 6,
      "metadata": {
        "colab": {
          "base_uri": "https://localhost:8080/"
        },
        "id": "NjH8gwG5nNOf",
        "outputId": "b209b130-4ec5-4f46-e9a7-676c8547a3b4"
      },
      "outputs": [
        {
          "output_type": "stream",
          "name": "stdout",
          "text": [
            "hello worldこんにちは！\n"
          ]
        }
      ],
      "source": [
        "b = a + 'こんにちは！'\n",
        "print(b)"
      ]
    },
    {
      "cell_type": "markdown",
      "metadata": {
        "id": "84QyBZBZnziv"
      },
      "source": [
        "❓\n",
        "0～10までの数値のリストを作成し、printで表示してください。\n",
        "**ただし、リストの値を作成する際は for を使わず、rangeを使用すること。**\n",
        "\n",
        "どうしてもわからない人はこちらのヒントを確認し自力でやろう：\n",
        "\n",
        "https://www.delftstack.com/ja/howto/python/python-list-from-1-to-n/"
      ]
    },
    {
      "cell_type": "code",
      "execution_count": 7,
      "metadata": {
        "id": "e0epTaqqnSE5",
        "colab": {
          "base_uri": "https://localhost:8080/"
        },
        "outputId": "78beae71-a48d-44b5-bfac-434c57a3d16f"
      },
      "outputs": [
        {
          "output_type": "stream",
          "name": "stdout",
          "text": [
            "[0, 1, 2, 3, 4, 5, 6, 7, 8, 9, 10]\n"
          ]
        }
      ],
      "source": [
        "# ここにソースコードを記載する\n",
        "num = list(range(0, 10+1))\n",
        "print(num)"
      ]
    },
    {
      "cell_type": "markdown",
      "metadata": {
        "id": "LG7b3W-qoqCP"
      },
      "source": [
        "❓\n",
        "11～21までの数値のリストを作成し、printで表示してください。\n",
        "**ただし、リストの値を作成する際は for を使わず、rangeを使用すること。**"
      ]
    },
    {
      "cell_type": "code",
      "execution_count": 8,
      "metadata": {
        "id": "bmgejth1plii",
        "colab": {
          "base_uri": "https://localhost:8080/"
        },
        "outputId": "01906abe-2b41-450e-f1ec-abd08023d220"
      },
      "outputs": [
        {
          "output_type": "stream",
          "name": "stdout",
          "text": [
            "[11, 12, 13, 14, 15, 16, 17, 18, 19, 20, 21]\n"
          ]
        }
      ],
      "source": [
        "num = list(range(11, 21+1))\n",
        "print(num)"
      ]
    },
    {
      "cell_type": "markdown",
      "metadata": {
        "id": "uw34EwJJpcJ2"
      },
      "source": [
        "関数も作成可能です。\n",
        "以下は二つの数字を受け取って、平均を求める関数です。"
      ]
    },
    {
      "cell_type": "code",
      "execution_count": 9,
      "metadata": {
        "colab": {
          "base_uri": "https://localhost:8080/"
        },
        "id": "iHPUhBaQopQu",
        "outputId": "df13abca-7e5f-49df-857e-6ee02ac82822"
      },
      "outputs": [
        {
          "output_type": "stream",
          "name": "stdout",
          "text": [
            "最初の値 10\n",
            "二つ目の値 20\n",
            "二つの値の平均値 15.0\n"
          ]
        }
      ],
      "source": [
        "def dispavg(x, y):\n",
        "    print('最初の値', x)\n",
        "    print('二つ目の値', y)\n",
        "    avg = (x + y) / 2\n",
        "    print('二つの値の平均値', avg)\n",
        "\n",
        "a = 10\n",
        "b = 20\n",
        "\n",
        "dispavg(a, b)\n"
      ]
    },
    {
      "cell_type": "markdown",
      "metadata": {
        "id": "8sjWFYS-qFdL"
      },
      "source": [
        "❓\n",
        "三つの数を受け取って、平均を表示する関数を作成してください。\n",
        "関数に渡す引数の値は 10.1, 3.14, 14としてください。 \n"
      ]
    },
    {
      "cell_type": "code",
      "execution_count": 10,
      "metadata": {
        "colab": {
          "base_uri": "https://localhost:8080/"
        },
        "id": "T8cRCZdKqfqK",
        "outputId": "2a64c2e9-711b-4104-f3ea-274b544f008b"
      },
      "outputs": [
        {
          "output_type": "stream",
          "name": "stdout",
          "text": [
            "最初の値 10.1\n",
            "二つ目の値 3.14\n",
            "三つ目の値 14\n",
            "3つの値の平均値 9.08\n"
          ]
        }
      ],
      "source": [
        "def peppa(x, y, z):\n",
        "  print(\"最初の値\", x)\n",
        "  print(\"二つ目の値\", y)\n",
        "  print(\"三つ目の値\", z)\n",
        "  ave = (x + y + z) / 3\n",
        "  print(\"3つの値の平均値\", ave)\n",
        "\n",
        "a = 10.1\n",
        "b = 3.14\n",
        "c = 14\n",
        "\n",
        "peppa(a, b, c)"
      ]
    },
    {
      "cell_type": "markdown",
      "metadata": {
        "id": "U2B4qvRJtAjH"
      },
      "source": [
        "❓\n",
        "冬休みの課題の「Kadai3.py」を参考に、\n",
        "三つの数を受け取って、**平均と最大値を戻り値とする関数**を作成してください。\n",
        "関数に渡す引数の値は 10.1, 3.14, 14としてください。 \n",
        "戻り値はreturnを一回だけ使用して返却するように記載すること。"
      ]
    },
    {
      "cell_type": "code",
      "execution_count": 17,
      "metadata": {
        "colab": {
          "base_uri": "https://localhost:8080/"
        },
        "id": "nxefxkrSQim-",
        "outputId": "7e330055-21bb-420f-a8d7-1dd93a92f75d"
      },
      "outputs": [
        {
          "output_type": "execute_result",
          "data": {
            "text/plain": [
              "9.08"
            ]
          },
          "metadata": {},
          "execution_count": 17
        }
      ],
      "source": [
        "def kadai(x, y, z):\n",
        "  ave = (x + y + z) / 3\n",
        "  return ave\n",
        "\n",
        "a = 10.1\n",
        "b = 3.14\n",
        "c = 14\n",
        "\n",
        "num1 = kadai(a, b, c)\n",
        "num1"
      ]
    },
    {
      "cell_type": "markdown",
      "metadata": {
        "id": "Cm0wpLyEQim-"
      },
      "source": [
        "他にも、様々なことが結構簡単にできます。以下を実行すると…？"
      ]
    },
    {
      "cell_type": "code",
      "execution_count": null,
      "metadata": {
        "id": "AK64bHimQim-"
      },
      "outputs": [],
      "source": [
        "import folium\n",
        "\n",
        "map1 = folium.Map(location=[35.697, 139.755], height=400, zoom_start=20)\n",
        "map1"
      ]
    }
  ],
  "metadata": {
    "colab": {
      "collapsed_sections": [],
      "name": "0112_Colab_1ex.ipynb",
      "provenance": []
    },
    "kernelspec": {
      "display_name": "Python 3",
      "name": "python3"
    },
    "language_info": {
      "name": "python"
    }
  },
  "nbformat": 4,
  "nbformat_minor": 0
}